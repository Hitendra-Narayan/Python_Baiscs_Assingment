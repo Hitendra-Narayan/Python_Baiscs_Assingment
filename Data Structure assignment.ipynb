{
 "cells": [
  {
   "cell_type": "code",
   "execution_count": 1,
   "id": "36dabd24-236b-4d29-bf3b-8494feb0fbb4",
   "metadata": {},
   "outputs": [
    {
     "data": {
      "text/plain": [
       "'HloWr'"
      ]
     },
     "execution_count": 1,
     "metadata": {},
     "output_type": "execute_result"
    }
   ],
   "source": [
    "#Q 01 Discuss string slicing and provide examples ?\n",
    "\n",
    "#String slicing in Python allows you to extract a substring from a string by specifying a start and optionally an end index.\n",
    "#Syntax : string[start:end:step]\n",
    "#Example1 : \n",
    "s = \"Hello World\"\n",
    "s[0:10:2]"
   ]
  },
  {
   "cell_type": "code",
   "execution_count": 2,
   "id": "598527cf-0d7b-4447-ae7c-e35e7a5e1ee6",
   "metadata": {},
   "outputs": [
    {
     "data": {
      "text/plain": [
       "'dlroW olleH'"
      ]
     },
     "execution_count": 2,
     "metadata": {},
     "output_type": "execute_result"
    }
   ],
   "source": [
    "#Example2 :\n",
    "s[::-1]     #Skipping Step Slicing"
   ]
  },
  {
   "cell_type": "code",
   "execution_count": 3,
   "id": "ed102d7e-e205-40e2-9b3f-00e90121ed72",
   "metadata": {},
   "outputs": [
    {
     "data": {
      "text/plain": [
       "'l'"
      ]
     },
     "execution_count": 3,
     "metadata": {},
     "output_type": "execute_result"
    }
   ],
   "source": [
    "#Example3 :\n",
    "s[-2]"
   ]
  },
  {
   "cell_type": "code",
   "execution_count": 4,
   "id": "2ef933a9-c4d6-4c59-b8f3-3db6cb1c0b2d",
   "metadata": {},
   "outputs": [
    {
     "ename": "IndexError",
     "evalue": "string index out of range",
     "output_type": "error",
     "traceback": [
      "\u001b[0;31m---------------------------------------------------------------------------\u001b[0m",
      "\u001b[0;31mIndexError\u001b[0m                                Traceback (most recent call last)",
      "Cell \u001b[0;32mIn[4], line 2\u001b[0m\n\u001b[1;32m      1\u001b[0m \u001b[38;5;66;03m#Example4 :\u001b[39;00m\n\u001b[0;32m----> 2\u001b[0m \u001b[43ms\u001b[49m\u001b[43m[\u001b[49m\u001b[38;5;241;43m20\u001b[39;49m\u001b[43m]\u001b[49m\n",
      "\u001b[0;31mIndexError\u001b[0m: string index out of range"
     ]
    }
   ],
   "source": [
    "#Example4 :\n",
    "s[20]      #Out of range indexing"
   ]
  },
  {
   "cell_type": "code",
   "execution_count": null,
   "id": "2bf016d9-899a-480f-82f6-62cfa2db5a97",
   "metadata": {},
   "outputs": [],
   "source": [
    "#Q 02 Explain the key features of lists in Python ?\n",
    "\n",
    "#Lists are one of the most commonly used data structures in Python, here are some key features of lists in Python:\n",
    "\"\"\"\n",
    "1. Ordered Collection\n",
    "2. Mutable\n",
    "3. Heterogeneous Elements\n",
    "4. Indexing & Slicing\n",
    "5. Iteration\n",
    "\"\"\""
   ]
  },
  {
   "cell_type": "code",
   "execution_count": 10,
   "id": "35c116cb-bcaf-47a3-9b61-48c77e82e4cb",
   "metadata": {},
   "outputs": [
    {
     "name": "stdout",
     "output_type": "stream",
     "text": [
      "10\n",
      "40\n",
      "50\n"
     ]
    }
   ],
   "source": [
    "#Q 03 Describe how to access, modify, and delete elements in a list with examples ?\n",
    "\n",
    "#1 How to access elements in a list:\n",
    "#We can access elements in a list using indexing.\n",
    "#Example1 :\n",
    "my_list = [10, 20, 30, 40, 50]\n",
    "print (my_list[0])\n",
    "print (my_list[3])\n",
    "print (my_list[-1])"
   ]
  },
  {
   "cell_type": "code",
   "execution_count": 8,
   "id": "5628b19c-50bc-4368-972c-173229a8e791",
   "metadata": {},
   "outputs": [
    {
     "name": "stdout",
     "output_type": "stream",
     "text": [
      "[20, 30, 40]\n",
      "[10, 20, 30]\n",
      "[10, 30, 50]\n"
     ]
    }
   ],
   "source": [
    "#Example2 :\n",
    "print (my_list[1:4])\n",
    "print (my_list[:3])\n",
    "print (my_list[::2])"
   ]
  },
  {
   "cell_type": "code",
   "execution_count": 11,
   "id": "bacb4646-def2-4bf4-9216-1fadb16f9a2f",
   "metadata": {},
   "outputs": [
    {
     "name": "stdout",
     "output_type": "stream",
     "text": [
      "[10, 20, 35, 40, 50]\n"
     ]
    }
   ],
   "source": [
    "#2 How to modify elements in a list:\n",
    "#We can modify elements in a list by assigning a new value to a specific index or using slicing to modify multiple elements.\n",
    "#Example1 :\n",
    "my_list = [10, 20, 30, 40, 50]\n",
    "my_list [2] = 35\n",
    "print (my_list)"
   ]
  },
  {
   "cell_type": "code",
   "execution_count": 12,
   "id": "3524b0e0-6817-4c20-99a2-e4c7690731c0",
   "metadata": {},
   "outputs": [
    {
     "name": "stdout",
     "output_type": "stream",
     "text": [
      "[10, 25, 35, 40, 50]\n"
     ]
    }
   ],
   "source": [
    "#Example2 :\n",
    "my_list [1:3] = [25, 35]\n",
    "print (my_list)"
   ]
  },
  {
   "cell_type": "code",
   "execution_count": 13,
   "id": "b01460ef-83d0-40ee-a323-79f7bb09e0ab",
   "metadata": {},
   "outputs": [
    {
     "name": "stdout",
     "output_type": "stream",
     "text": [
      "[10, 20, 40, 50]\n"
     ]
    }
   ],
   "source": [
    "#3 How to delete elements in a list:\n",
    "#We can delete elements from a list using the del statement, the remove() method, or the pop() method.\n",
    "#Example1 :\n",
    "my_list = [10, 20, 30, 40, 50]\n",
    "del my_list[2]\n",
    "print (my_list)"
   ]
  },
  {
   "cell_type": "code",
   "execution_count": 14,
   "id": "a51a44d0-41ae-4428-8fbf-77a4e847359f",
   "metadata": {},
   "outputs": [
    {
     "name": "stdout",
     "output_type": "stream",
     "text": [
      "[10, 20, 40, 50]\n"
     ]
    }
   ],
   "source": [
    "#Example2 :\n",
    "my_list = [10, 20, 30, 40, 50]\n",
    "my_list.remove(30)\n",
    "print (my_list)"
   ]
  },
  {
   "cell_type": "code",
   "execution_count": 15,
   "id": "96a742d0-be67-4671-835e-39a51bc38881",
   "metadata": {},
   "outputs": [
    {
     "name": "stdout",
     "output_type": "stream",
     "text": [
      "50\n",
      "[10, 20, 30, 40]\n"
     ]
    }
   ],
   "source": [
    "#Example3 :\n",
    "my_list = [10, 20, 30, 40, 50]\n",
    "last_element = my_list.pop()\n",
    "print (last_element)\n",
    "print (my_list)"
   ]
  },
  {
   "cell_type": "code",
   "execution_count": 16,
   "id": "69287c7c-3c32-414a-a31f-7baae1ecf700",
   "metadata": {},
   "outputs": [],
   "source": [
    "#Q 04 Compare and contrast tuples and lists with examples ?\n",
    "\n",
    "#tuples and lists are both used to store collections of items, but they have some important differences.\n",
    "\"\"\"\n",
    "1. Mutability\n",
    "Lists are Mutable and Tuples are Immutable.\n",
    "2. Syntax\n",
    "Lists are defined using square brackets [].\n",
    "Tuples are defined using parentheses ().\n",
    "3. Usage\n",
    "Lists are used when you need a collection of items that may change during the lifetime of the program.\n",
    "Tuples are used when you need a collection of items that should not change, providing a form of data integrity."
   ]
  },
  {
   "cell_type": "code",
   "execution_count": 17,
   "id": "b8d18e9b-5bae-4205-a6ac-01fdacb7fb2d",
   "metadata": {},
   "outputs": [
    {
     "name": "stdout",
     "output_type": "stream",
     "text": [
      "[1, 20, 3, 4]\n"
     ]
    },
    {
     "ename": "TypeError",
     "evalue": "'tuple' object does not support item assignment",
     "output_type": "error",
     "traceback": [
      "\u001b[0;31m---------------------------------------------------------------------------\u001b[0m",
      "\u001b[0;31mTypeError\u001b[0m                                 Traceback (most recent call last)",
      "Cell \u001b[0;32mIn[17], line 11\u001b[0m\n\u001b[1;32m      8\u001b[0m my_list[\u001b[38;5;241m1\u001b[39m] \u001b[38;5;241m=\u001b[39m \u001b[38;5;241m20\u001b[39m\n\u001b[1;32m      9\u001b[0m \u001b[38;5;28mprint\u001b[39m (my_list)\n\u001b[0;32m---> 11\u001b[0m \u001b[43mmy_tuple\u001b[49m\u001b[43m[\u001b[49m\u001b[38;5;241;43m1\u001b[39;49m\u001b[43m]\u001b[49m \u001b[38;5;241m=\u001b[39m \u001b[38;5;241m20\u001b[39m\n\u001b[1;32m     12\u001b[0m \u001b[38;5;28mprint\u001b[39m (my_tuple)\n",
      "\u001b[0;31mTypeError\u001b[0m: 'tuple' object does not support item assignment"
     ]
    }
   ],
   "source": [
    "#Example1 : Modifying Elements\n",
    "#List\n",
    "my_list = [1, 2, 3, 4]\n",
    "\n",
    "#Tuple\n",
    "my_tuple = (1, 2, 3, 4)\n",
    "\n",
    "my_list[1] = 20\n",
    "print (my_list)\n",
    "\n",
    "my_tuple[1] = 20\n",
    "print (my_tuple)"
   ]
  },
  {
   "cell_type": "code",
   "execution_count": 18,
   "id": "5923d494-3cb8-44b5-9207-16c3f54a02f2",
   "metadata": {},
   "outputs": [
    {
     "name": "stdout",
     "output_type": "stream",
     "text": [
      "[1, 20, 3, 4, 5]\n",
      "[1, 20, 4, 5]\n"
     ]
    },
    {
     "ename": "AttributeError",
     "evalue": "'tuple' object has no attribute 'append'",
     "output_type": "error",
     "traceback": [
      "\u001b[0;31m---------------------------------------------------------------------------\u001b[0m",
      "\u001b[0;31mAttributeError\u001b[0m                            Traceback (most recent call last)",
      "Cell \u001b[0;32mIn[18], line 8\u001b[0m\n\u001b[1;32m      5\u001b[0m my_list\u001b[38;5;241m.\u001b[39mremove(\u001b[38;5;241m3\u001b[39m)\n\u001b[1;32m      6\u001b[0m \u001b[38;5;28mprint\u001b[39m (my_list)\n\u001b[0;32m----> 8\u001b[0m \u001b[43mmy_tuple\u001b[49m\u001b[38;5;241;43m.\u001b[39;49m\u001b[43mappend\u001b[49m(\u001b[38;5;241m5\u001b[39m)\n\u001b[1;32m      9\u001b[0m \u001b[38;5;28mprint\u001b[39m (my_tuple)\n",
      "\u001b[0;31mAttributeError\u001b[0m: 'tuple' object has no attribute 'append'"
     ]
    }
   ],
   "source": [
    "#Example2 :\n",
    "my_list.append(5)\n",
    "print (my_list)\n",
    "\n",
    "my_list.remove(3)\n",
    "print (my_list)\n",
    "\n",
    "my_tuple.append(5)\n",
    "print (my_tuple)"
   ]
  },
  {
   "cell_type": "code",
   "execution_count": 2,
   "id": "5c76a2cd-c5ee-4c60-9875-30d3fb8c2189",
   "metadata": {},
   "outputs": [
    {
     "name": "stdout",
     "output_type": "stream",
     "text": [
      "{1, 2, 3, 4}\n"
     ]
    }
   ],
   "source": [
    "#Q 05 Describe the key features of sets and provide examples of their use ?\n",
    "\n",
    "#Key features of sets in Python:\n",
    "\"\"\"\n",
    "1. Unordered Collection\n",
    "2. No Duplicate Elements\n",
    "3. Mutable\n",
    "4. Efficient Membership Testing\n",
    "\"\"\"\n",
    "#Example1 :\n",
    "my_set = {1, 2, 3, 4}\n",
    "print (my_set)"
   ]
  },
  {
   "cell_type": "code",
   "execution_count": 3,
   "id": "8cb2ab8d-6908-4b81-9f2d-e93f7ecc16b9",
   "metadata": {},
   "outputs": [
    {
     "name": "stdout",
     "output_type": "stream",
     "text": [
      "{1, 2, 3, 4, 5}\n"
     ]
    }
   ],
   "source": [
    "#Example2 :\n",
    "my_set.add(5)\n",
    "print (my_set)"
   ]
  },
  {
   "cell_type": "code",
   "execution_count": 4,
   "id": "9c285152-3854-45d8-9fd9-a218eec4ca33",
   "metadata": {},
   "outputs": [
    {
     "name": "stdout",
     "output_type": "stream",
     "text": [
      "{1, 2, 4, 5}\n",
      "{2, 4, 5}\n"
     ]
    }
   ],
   "source": [
    "#Example3 :\n",
    "my_set.remove(3)\n",
    "print (my_set)\n",
    "\n",
    "my_set.discard(1)\n",
    "print (my_set)"
   ]
  },
  {
   "cell_type": "code",
   "execution_count": 5,
   "id": "1887eb1a-f7f2-4964-81fd-d8e0512581af",
   "metadata": {},
   "outputs": [
    {
     "name": "stdout",
     "output_type": "stream",
     "text": [
      "True\n",
      "False\n"
     ]
    }
   ],
   "source": [
    "#Example4 :\n",
    "print (2 in my_set)\n",
    "print (6 in my_set)"
   ]
  },
  {
   "cell_type": "code",
   "execution_count": 6,
   "id": "71c99011-452a-42ae-be4e-95e6887fa6f1",
   "metadata": {},
   "outputs": [
    {
     "name": "stdout",
     "output_type": "stream",
     "text": [
      "[1, 2, 3, 4, 5]\n"
     ]
    }
   ],
   "source": [
    "#Example5 :\n",
    "my_list = [1, 2, 2, 3, 4, 4, 5]\n",
    "unique_elements = list (set(my_list))\n",
    "print (unique_elements)"
   ]
  },
  {
   "cell_type": "code",
   "execution_count": 28,
   "id": "d9ae17f3-5b25-4ffe-bad4-ce6e1e1164ed",
   "metadata": {},
   "outputs": [
    {
     "name": "stdout",
     "output_type": "stream",
     "text": [
      "Item is in the set\n"
     ]
    }
   ],
   "source": [
    "#Example6 :\n",
    "my_set = {1, 2, 3, 4, 5, 6, 7}\n",
    "if 1 in my_set:\n",
    "    print (\"Item is in the set\")\n",
    "else: \n",
    "    print (\"Item is not in the set\")"
   ]
  },
  {
   "cell_type": "code",
   "execution_count": 33,
   "id": "9848801f-9fdf-4c15-ba7b-2890d8b4e159",
   "metadata": {},
   "outputs": [
    {
     "name": "stdout",
     "output_type": "stream",
     "text": [
      "('Alice', 30, 'Engineer')\n"
     ]
    }
   ],
   "source": [
    "#Q 06 Discuss the use cases of tuples and sets in Python programming ?\n",
    "\n",
    "#Use cases of Tuples:\n",
    "#Example1 :\n",
    "person = (\"Alice\", 30, \"Engineer\")\n",
    "name, age, profession = person\n",
    "print (person)"
   ]
  },
  {
   "cell_type": "code",
   "execution_count": 34,
   "id": "71486de3-3dd8-44bd-93f0-f3285130a3a8",
   "metadata": {},
   "outputs": [
    {
     "name": "stdout",
     "output_type": "stream",
     "text": [
      "('Monday', 'Tuesday', 'Wednesday', 'Thursday', 'Friday', 'Saturday', 'Sunday')\n"
     ]
    }
   ],
   "source": [
    "#Example2 :\n",
    "days_of_week = (\"Monday\", \"Tuesday\", \"Wednesday\", \"Thursday\", \"Friday\", \"Saturday\", \"Sunday\")\n",
    "print (days_of_week)"
   ]
  },
  {
   "cell_type": "code",
   "execution_count": 38,
   "id": "1baeedbe-ff24-4068-91af-1c36ec11be8d",
   "metadata": {},
   "outputs": [
    {
     "name": "stdout",
     "output_type": "stream",
     "text": [
      "[1, 2, 3, 4, 5]\n"
     ]
    }
   ],
   "source": [
    "#Use cases of Sets:\n",
    "#Example1 :\n",
    "my_list = [1, 2, 2, 3, 4, 4, 5]\n",
    "unique_elements = list(set(my_list))\n",
    "print (unique_elements)"
   ]
  },
  {
   "cell_type": "code",
   "execution_count": 44,
   "id": "a17b8701-f1ff-46f7-9ee7-12977e63839f",
   "metadata": {},
   "outputs": [
    {
     "name": "stdout",
     "output_type": "stream",
     "text": [
      "available\n"
     ]
    }
   ],
   "source": [
    "#Example2 :\n",
    "my_set = {1, 2, 3, 4, 5}\n",
    "if 3 in my_set:\n",
    "    print (\"available\")\n",
    "else:\n",
    "    print (\"not available\")"
   ]
  },
  {
   "cell_type": "code",
   "execution_count": 47,
   "id": "7605159e-bb62-4393-a57f-28d857cf8ca9",
   "metadata": {},
   "outputs": [
    {
     "name": "stdout",
     "output_type": "stream",
     "text": [
      "{1, 2, 3, 4, 5}\n",
      "{3}\n",
      "{1, 2}\n",
      "{1, 2, 4, 5}\n"
     ]
    }
   ],
   "source": [
    "#Example3 :\n",
    "set1 = {1, 2, 3}\n",
    "set2 = {3, 4, 5}\n",
    "union_set = set1 | set2\n",
    "intersection_set = set1 & set2\n",
    "difference_set = set1 - set2\n",
    "symmetric_difference_set = set1 ^ set2\n",
    "print (union_set)\n",
    "print (intersection_set)\n",
    "print (difference_set)\n",
    "print (symmetric_difference_set)"
   ]
  },
  {
   "cell_type": "code",
   "execution_count": 48,
   "id": "86a723f2-2b46-451c-8690-665ac4e2bbdf",
   "metadata": {},
   "outputs": [
    {
     "name": "stdout",
     "output_type": "stream",
     "text": [
      "{'cherry', 'apple'}\n"
     ]
    }
   ],
   "source": [
    "#Example4 :\n",
    "all_fruits = {\"apple\", \"banana\", \"cherry\", \"date\"}\n",
    "unwanted_fruits = {\"date\", \"banana\"}\n",
    "filtered_fruits = all_fruits - unwanted_fruits\n",
    "print (filtered_fruits)"
   ]
  },
  {
   "cell_type": "code",
   "execution_count": 50,
   "id": "8a1cfca3-71dc-4205-975e-8e25a27818e5",
   "metadata": {},
   "outputs": [
    {
     "name": "stdout",
     "output_type": "stream",
     "text": [
      "{'name': 'Ram', 'age': 20}\n"
     ]
    }
   ],
   "source": [
    "#Q 07 Describe how to add, modify, and delete items in a dictionary with examples ?\n",
    "\n",
    "#Dictionaries in Python are mutable collections that store items in key-value pairs.\n",
    "#1 Adding items in a Dictionary:\n",
    "my_dict = {}\n",
    "\n",
    "my_dict[\"name\"] = \"Ram\"\n",
    "my_dict[\"age\"] = 20\n",
    "\n",
    "print (my_dict)"
   ]
  },
  {
   "cell_type": "code",
   "execution_count": 52,
   "id": "8584a922-be02-466c-a938-7cf8be59b818",
   "metadata": {},
   "outputs": [
    {
     "name": "stdout",
     "output_type": "stream",
     "text": [
      "{'name': 'Ram', 'age': 25}\n"
     ]
    }
   ],
   "source": [
    "#2 Modify items in a Dictionary:\n",
    "my_dict = {\"name\": \"Ram\", \"age\": 20}\n",
    "\n",
    "my_dict[\"age\"] = 25\n",
    "\n",
    "print(my_dict)"
   ]
  },
  {
   "cell_type": "code",
   "execution_count": 2,
   "id": "f79ea45d-4e44-4b12-8c7f-4c0f67db487f",
   "metadata": {},
   "outputs": [
    {
     "name": "stdout",
     "output_type": "stream",
     "text": [
      "{'name': 'Ram', 'city': 'Pune'}\n"
     ]
    }
   ],
   "source": [
    "#3 Deleting items in a Dictionary:\n",
    "my_dict = {\"name\": \"Ram\", \"age\": 25, \"city\": \"Pune\"}\n",
    "\n",
    "del my_dict[\"age\"]\n",
    "\n",
    "print(my_dict)"
   ]
  },
  {
   "cell_type": "code",
   "execution_count": 5,
   "id": "5731ed00-833c-41e2-98c2-252c99552487",
   "metadata": {},
   "outputs": [
    {
     "name": "stdout",
     "output_type": "stream",
     "text": [
      "{'name': 'Ram', 'age': 25, 'city': 'Pune'}\n"
     ]
    }
   ],
   "source": [
    "#Q 08  Discuss the importance of dictionary keys being immutable and provide emamples ?\n",
    "\n",
    "#in Python, dictionary keys must be immutable, meaning they cannot be changed after they are created.\n",
    "#This immutability is crucial for several reasons:\n",
    "\"\"\"\n",
    "1. Hashability\n",
    "2. Reliability\n",
    "3. Performance\n",
    "\"\"\"\n",
    "#Examples of Immutable Keys:\n",
    "#1 Using Strings as keys:\n",
    "my_dict = {\"name\": \"Ram\", \"age\": 25, \"city\": \"Pune\"}\n",
    "print (my_dict)"
   ]
  },
  {
   "cell_type": "code",
   "execution_count": 6,
   "id": "a8f864fe-149d-4e2a-9996-3eacba300bc1",
   "metadata": {},
   "outputs": [
    {
     "name": "stdout",
     "output_type": "stream",
     "text": [
      "{1: 'one', 2: 'two', 3: 'three'}\n"
     ]
    }
   ],
   "source": [
    "#2 Using Intergers as keys:\n",
    "my_new_dict = {1: 'one', 2: 'two', 3: 'three'}\n",
    "print (my_new_dict)"
   ]
  },
  {
   "cell_type": "code",
   "execution_count": 7,
   "id": "7f1d38e9-163a-4faf-abc6-a2d26692cfa7",
   "metadata": {},
   "outputs": [
    {
     "name": "stdout",
     "output_type": "stream",
     "text": [
      "{(1, 2): 'point A', (3, 4): 'point B'}\n"
     ]
    }
   ],
   "source": [
    "#3 Using Tuples as keys:\n",
    "my_tuples = {(1, 2): 'point A', (3, 4): 'point B'}\n",
    "print (my_tuples)"
   ]
  },
  {
   "cell_type": "code",
   "execution_count": null,
   "id": "d5780071-f735-4890-9dff-74e53e24741b",
   "metadata": {},
   "outputs": [],
   "source": [
    "#The requirement for dictionary keys to be immutable ensures that:\n",
    "\"\"\"\n",
    "1. Keys remain consistent and reliable, providing a stable reference for accessing values.\n",
    "2. The hash table mechanism used by dictionaries works correctly, ensuring efficient data retrieval.\n",
    "3. The performance of dictionary operations remains optimized.\n",
    "\"\"\""
   ]
  }
 ],
 "metadata": {
  "kernelspec": {
   "display_name": "Python 3 (ipykernel)",
   "language": "python",
   "name": "python3"
  },
  "language_info": {
   "codemirror_mode": {
    "name": "ipython",
    "version": 3
   },
   "file_extension": ".py",
   "mimetype": "text/x-python",
   "name": "python",
   "nbconvert_exporter": "python",
   "pygments_lexer": "ipython3",
   "version": "3.10.8"
  }
 },
 "nbformat": 4,
 "nbformat_minor": 5
}
