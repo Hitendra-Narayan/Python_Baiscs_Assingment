{
 "cells": [
  {
   "cell_type": "code",
   "execution_count": null,
   "id": "dd077c9f-a687-4b08-844c-ed6751a379ca",
   "metadata": {},
   "outputs": [],
   "source": [
    "#Q 1 explain the key featu$es of Python that take it a popular choice for programming.\n",
    "\n",
    "\n",
    "#1 Easy to Learn\n",
    "#2 Large Standard Library\n",
    "#3 Used Globally\n",
    "#4 Cross Platform Compatibility\n"
   ]
  },
  {
   "cell_type": "code",
   "execution_count": 4,
   "id": "a736a90e-61ea-4c80-8544-69a5ad16ded2",
   "metadata": {},
   "outputs": [
    {
     "name": "stdout",
     "output_type": "stream",
     "text": [
      "You are an adult\n"
     ]
    }
   ],
   "source": [
    "#Q 2 Describe the role of predefined keywords in Python and provide examples of how they are used in a praogram.\n",
    "\n",
    "\n",
    "\"\"\"Predefined keywords in Python are reserved words that have special meaning and cannot be used as identifiers. \n",
    "They define the syntax and structure of the Python language.\n",
    "Keywords help create the flow and logic of a program.\"\"\"\n",
    "\n",
    "#Example 1: \n",
    "\n",
    "age = 18\n",
    "if age >= 18:\n",
    "    print (\"You are an adult\")\n",
    "else:\n",
    "    print (\"You are a minor\")\n"
   ]
  },
  {
   "cell_type": "code",
   "execution_count": 5,
   "id": "70e0421d-0bd5-4be4-8435-1fddb74fb283",
   "metadata": {},
   "outputs": [
    {
     "name": "stdout",
     "output_type": "stream",
     "text": [
      "0\n",
      "1\n",
      "2\n",
      "3\n",
      "4\n"
     ]
    }
   ],
   "source": [
    "#Example 2:\n",
    "\n",
    "for i in range (5):\n",
    "    print (i)"
   ]
  },
  {
   "cell_type": "code",
   "execution_count": 6,
   "id": "6d371635-b808-47cf-895b-a3cb9d090561",
   "metadata": {},
   "outputs": [
    {
     "name": "stdout",
     "output_type": "stream",
     "text": [
      "* * * * \n",
      "* * * * \n",
      "* * * * \n",
      "* * * * \n"
     ]
    }
   ],
   "source": [
    "#Example 3:\n",
    "\n",
    "for i in range (4):\n",
    "    for j in range (4):\n",
    "        print (\"*\", end = \" \")\n",
    "    print ()"
   ]
  },
  {
   "cell_type": "code",
   "execution_count": 8,
   "id": "a9a2a809-c0e2-40d8-9f26-89a51fd616ea",
   "metadata": {},
   "outputs": [
    {
     "name": "stdout",
     "output_type": "stream",
     "text": [
      "[10, 2, 3]\n"
     ]
    }
   ],
   "source": [
    "#Q 3  Compare and contrast mutable and immutable objects in Python with examples.\n",
    "\n",
    "\n",
    "#Mutable objects can be changed after they are created. It means you can modify content without creating a new object.\n",
    "#List is a Mutable object and you can add, remove or modify elements.\n",
    "#Example:\n",
    "\n",
    "my_list = [1, 2, 3]\n",
    "\n",
    "my_list [0] = 10 #Changing an element\n",
    "print (my_list)"
   ]
  },
  {
   "cell_type": "code",
   "execution_count": 10,
   "id": "53ca6cee-62be-4b3f-b340-caf8c648da18",
   "metadata": {},
   "outputs": [
    {
     "ename": "TypeError",
     "evalue": "'str' object does not support item assignment",
     "output_type": "error",
     "traceback": [
      "\u001b[0;31m---------------------------------------------------------------------------\u001b[0m",
      "\u001b[0;31mTypeError\u001b[0m                                 Traceback (most recent call last)",
      "Cell \u001b[0;32mIn[10], line 6\u001b[0m\n\u001b[1;32m      1\u001b[0m \u001b[38;5;66;03m#Immutable objects cannot be changed after they are created.\u001b[39;00m\n\u001b[1;32m      2\u001b[0m \u001b[38;5;66;03m#Strings cannot be modified; any change results in a new string.\u001b[39;00m\n\u001b[1;32m      3\u001b[0m \u001b[38;5;66;03m#Example:\u001b[39;00m\n\u001b[1;32m      5\u001b[0m my_string \u001b[38;5;241m=\u001b[39m \u001b[38;5;124m\"\u001b[39m\u001b[38;5;124mHello World\u001b[39m\u001b[38;5;124m\"\u001b[39m\n\u001b[0;32m----> 6\u001b[0m \u001b[43mmy_string\u001b[49m\u001b[43m[\u001b[49m\u001b[38;5;241;43m0\u001b[39;49m\u001b[43m]\u001b[49m \u001b[38;5;241m=\u001b[39m \u001b[38;5;124m\"\u001b[39m\u001b[38;5;124mK\u001b[39m\u001b[38;5;124m\"\u001b[39m  \u001b[38;5;66;03m# This will raise a TypeError\u001b[39;00m\n",
      "\u001b[0;31mTypeError\u001b[0m: 'str' object does not support item assignment"
     ]
    }
   ],
   "source": [
    "#Immutable objects cannot be changed after they are created.\n",
    "#Strings cannot be modified; any change results in a new string.\n",
    "#Example:\n",
    "\n",
    "my_string = \"Hello World\"\n",
    "my_string[0] = \"K\"  # This will raise a TypeError"
   ]
  },
  {
   "cell_type": "code",
   "execution_count": 13,
   "id": "deeb6a81-babc-4386-b676-65b803cf15b3",
   "metadata": {},
   "outputs": [
    {
     "name": "stdout",
     "output_type": "stream",
     "text": [
      "15\n",
      "5\n",
      "50\n",
      "2.0\n"
     ]
    }
   ],
   "source": [
    "#Q 4 Discuss the different types of operators in Python and provide examples of how they are used.\n",
    "\n",
    "\n",
    "#Here are the different types of operators along with examples of how they used:\n",
    "\n",
    "#1 Arithmetic Operator: These operators are used to perform mathematical operations like addition, subtraction, multiplication, etc.\n",
    "# [+, -, *, /, etc]\n",
    "#Example: \n",
    "x = 10\n",
    "y = 5\n",
    "\n",
    "print (x + y)  \n",
    "print (x - y)\n",
    "print (x * y)\n",
    "print (x / y) "
   ]
  },
  {
   "cell_type": "code",
   "execution_count": 14,
   "id": "96d29acc-3335-4588-9d18-aa85920fe276",
   "metadata": {},
   "outputs": [
    {
     "name": "stdout",
     "output_type": "stream",
     "text": [
      "False\n",
      "True\n",
      "True\n",
      "False\n"
     ]
    }
   ],
   "source": [
    "#2 Comparison Operator: Used to Compare two values.\n",
    "# [<, >, ==. !=, etc]\n",
    "#Example: \n",
    "x = 10\n",
    "y = 5\n",
    "\n",
    "print (x == y)\n",
    "print (x != y)\n",
    "print (x > y)\n",
    "print (x < y)"
   ]
  },
  {
   "cell_type": "code",
   "execution_count": 15,
   "id": "c5906bd6-2aec-48b5-b619-7713544399d2",
   "metadata": {},
   "outputs": [
    {
     "name": "stdout",
     "output_type": "stream",
     "text": [
      "False\n",
      "True\n",
      "False\n"
     ]
    }
   ],
   "source": [
    "#3 Logical Operator: Used to combine conditional statements.\n",
    "# [and, or, not]\n",
    "#Example:\n",
    "x = True\n",
    "y = False\n",
    "\n",
    "print (x and y)\n",
    "print (x or y)\n",
    "print (not x)"
   ]
  },
  {
   "cell_type": "code",
   "execution_count": 17,
   "id": "8e1e0dd5-fb5c-4872-82e5-14da7b0af1d7",
   "metadata": {},
   "outputs": [
    {
     "name": "stdout",
     "output_type": "stream",
     "text": [
      "True\n",
      "False\n"
     ]
    }
   ],
   "source": [
    "#4 Membership Operator: Used to test if a sequence is present in an object.\n",
    "# [in, not in]\n",
    "#Example:\n",
    "x = [\"banana\", \"apple\"]\n",
    "\n",
    "print (\"banana\" in x)\n",
    "print (\"banana\" not in x)"
   ]
  },
  {
   "cell_type": "code",
   "execution_count": 18,
   "id": "d3834266-70a9-484a-93c1-10b44b1348fc",
   "metadata": {},
   "outputs": [
    {
     "name": "stdout",
     "output_type": "stream",
     "text": [
      "True\n",
      "False\n",
      "False\n",
      "True\n"
     ]
    }
   ],
   "source": [
    "#5 Identity Operator: Used to compare the memory locations of two objects.\n",
    "# [is, is not]\n",
    "#Example:\n",
    "x = [\"ajay\", \"narayan\"]\n",
    "y = [\"ajay\", \"narayan\"]\n",
    "z = x\n",
    "\n",
    "print (x is z)\n",
    "print (x is y)\n",
    "print (x is not z)\n",
    "print (x is not y)"
   ]
  },
  {
   "cell_type": "code",
   "execution_count": 28,
   "id": "3083a3fa-cebe-40fe-adce-6606f192f41d",
   "metadata": {},
   "outputs": [
    {
     "data": {
      "text/plain": [
       "12230.590464000012"
      ]
     },
     "execution_count": 28,
     "metadata": {},
     "output_type": "execute_result"
    }
   ],
   "source": [
    "#6 Assingment Operator: Used to assign values to variables.\n",
    "# [=, +=, /=, -=, *=, **, etc]\n",
    "#Example:\n",
    "x = 10\n",
    "\n",
    "x += 2\n",
    "x /= 5\n",
    "x -= 4\n",
    "x *= 3\n",
    "x ** 6"
   ]
  },
  {
   "cell_type": "code",
   "execution_count": 30,
   "id": "fac64cf9-d73e-4593-b788-797956f607b6",
   "metadata": {},
   "outputs": [
    {
     "name": "stdout",
     "output_type": "stream",
     "text": [
      "7.5\n",
      "<class 'float'>\n"
     ]
    }
   ],
   "source": [
    "#Q 5 Explain the concept of type casting in Python with examples.\n",
    "\n",
    "\n",
    "#Type casting in Python refers to converting one data type into another and there are two types of type casting in Python: implicit and explicit.\n",
    "\n",
    "#1 Implicit Type Casting:\n",
    "#Example:\n",
    "x = 5       #int\n",
    "y = 2.5     #float\n",
    "\n",
    "result = x + y\n",
    "print (result)\n",
    "print (type(result))"
   ]
  },
  {
   "cell_type": "code",
   "execution_count": 35,
   "id": "8f9b7f34-9995-4a9c-a3cb-92cca6955f63",
   "metadata": {},
   "outputs": [
    {
     "name": "stdout",
     "output_type": "stream",
     "text": [
      "3\n",
      "<class 'int'>\n"
     ]
    }
   ],
   "source": [
    "#2 Explicit Type Casting:\n",
    "#Example1: Float chnage into Integer.\n",
    "x = 3.50     #Input: float\n",
    "\n",
    "y = int (x)\n",
    "print (y)\n",
    "print (type(y))   #Output: Integer"
   ]
  },
  {
   "cell_type": "code",
   "execution_count": 36,
   "id": "1e8da6b2-02a0-4e36-8131-ac60317de67d",
   "metadata": {},
   "outputs": [
    {
     "name": "stdout",
     "output_type": "stream",
     "text": [
      "10\n",
      "<class 'str'>\n"
     ]
    }
   ],
   "source": [
    "#Example2: Integer change into String.\n",
    "x = 10     #Input: Integer\n",
    "\n",
    "y = str (x)\n",
    "print (y)\n",
    "print (type(y))"
   ]
  },
  {
   "cell_type": "code",
   "execution_count": 37,
   "id": "7f122c03-b548-4133-96fd-d6552fc4738a",
   "metadata": {},
   "outputs": [
    {
     "name": "stdout",
     "output_type": "stream",
     "text": [
      "x is greater than 5\n"
     ]
    }
   ],
   "source": [
    "#Q 6 How do conditional statements work in Python? Illustrate with examples.\n",
    "\n",
    "\n",
    "\"\"\"Conditional statements in Python are used to execute different blocks of code based on certain conditions.\n",
    "The primary conditional statements in Python are if, elif, and else. \n",
    "They allow you to control the flow of your program by executing specific blocks of code when certain conditions are met.\"\"\"\n",
    "\n",
    "#1 if statement:The if statement is used to test a condition. If the condition is true, the block of code within the if statement is executed.\n",
    "#Example:\n",
    "x = 10\n",
    "\n",
    "if x > 5:\n",
    "    print (\"x is greater than 5\")"
   ]
  },
  {
   "cell_type": "code",
   "execution_count": 38,
   "id": "2de8b001-71aa-41ce-b583-de1bf18ca0bb",
   "metadata": {},
   "outputs": [
    {
     "name": "stdout",
     "output_type": "stream",
     "text": [
      "x is not greater than 5\n"
     ]
    }
   ],
   "source": [
    "#2 if-else statement: The if-else statement provides an alternative block of code to execute, if the condition in the if statement is false.\n",
    "#Example:\n",
    "x = 3\n",
    "\n",
    "if x > 5:\n",
    "    print (\"x is greater than 5\")\n",
    "else:\n",
    "    print (\"x is not greater than 5\")"
   ]
  },
  {
   "cell_type": "code",
   "execution_count": 39,
   "id": "28e10211-7d68-40e6-9657-c61cced0ba52",
   "metadata": {},
   "outputs": [
    {
     "name": "stdout",
     "output_type": "stream",
     "text": [
      "x is greater than 5 but not greater than 10\n"
     ]
    }
   ],
   "source": [
    "#3 if-elif-else statement: The if-elif-else statement is used to test multiple conditions. \n",
    "#If the first condition is false, the next elif condition is tested, and so on. \n",
    "#If none of the conditions are true, the else block is executed.\n",
    "#Example:\n",
    "x = 7\n",
    "\n",
    "if x > 10:\n",
    "    print (\"x is greater than 10\")\n",
    "elif x > 5:\n",
    "    print (\"x is greater than 5 but not greater than 10\")\n",
    "else:\n",
    "    print (\"x is 5 or less\")"
   ]
  },
  {
   "cell_type": "code",
   "execution_count": 40,
   "id": "c803fc8b-b1dc-4549-9a8e-b21a9f67cb55",
   "metadata": {},
   "outputs": [
    {
     "name": "stdout",
     "output_type": "stream",
     "text": [
      "x is greater than 10\n",
      "x is not greater than 20\n"
     ]
    }
   ],
   "source": [
    "#4 Nested Conditional statements: You can nest if statements inside other if statements to check multiple conditions.\n",
    "#Example:\n",
    "x = 15\n",
    "\n",
    "if x > 10:\n",
    "    print (\"x is greater than 10\")\n",
    "    if x > 20:\n",
    "        print (\"x is also greater than 20\")\n",
    "    else:\n",
    "        print (\"x is not greater than 20\")\n",
    "else:\n",
    "    print(\"x is not greater than 10\")"
   ]
  },
  {
   "cell_type": "code",
   "execution_count": 44,
   "id": "f0bda63e-95ca-41ce-bd3d-e954c777e8ab",
   "metadata": {},
   "outputs": [
    {
     "name": "stdout",
     "output_type": "stream",
     "text": [
      "Balls\n",
      "Toys\n",
      "Dolls\n"
     ]
    }
   ],
   "source": [
    "#Q 7 Describe the different types of loops in Python and their use cases with examples.\n",
    "\n",
    "\n",
    "#Here are the different types of loops and their use cases with examples:\n",
    "\n",
    "#1 for Loop: The for loop is used to iterate over a sequence (such as a list, tuple, string, etc)\n",
    "#Example 1: Iterating over a list\n",
    "products = (\"Balls\", \"Toys\", \"Dolls\")\n",
    "\n",
    "for i in products:\n",
    "    print (i)"
   ]
  },
  {
   "cell_type": "code",
   "execution_count": 45,
   "id": "a807f094-2822-450e-8218-a5a668613b15",
   "metadata": {},
   "outputs": [
    {
     "name": "stdout",
     "output_type": "stream",
     "text": [
      "0\n",
      "1\n",
      "2\n",
      "3\n",
      "4\n"
     ]
    }
   ],
   "source": [
    "#Example 2: Using range\n",
    "for i in range (5):\n",
    "    print (i)"
   ]
  },
  {
   "cell_type": "code",
   "execution_count": 46,
   "id": "08a36f93-41c7-424a-874b-45756ba7d818",
   "metadata": {},
   "outputs": [
    {
     "name": "stdout",
     "output_type": "stream",
     "text": [
      "0\n",
      "1\n",
      "2\n",
      "3\n",
      "4\n"
     ]
    }
   ],
   "source": [
    "#2 while loop: The while loop repeats a block of code as long as a specified condition is true.\n",
    "#Example 1: \n",
    "count = 0\n",
    "\n",
    "while count < 5:\n",
    "    print (count)\n",
    "    count += 1"
   ]
  },
  {
   "cell_type": "code",
   "execution_count": null,
   "id": "7890a740-2d4c-439a-ad18-c410cfb7a57c",
   "metadata": {},
   "outputs": [],
   "source": []
  },
  {
   "cell_type": "code",
   "execution_count": 47,
   "id": "bf09fa26-f5b1-4a1d-adcd-dd0d18b839b9",
   "metadata": {},
   "outputs": [
    {
     "name": "stdout",
     "output_type": "stream",
     "text": [
      "0\n",
      "1\n",
      "2\n",
      "3\n",
      "4\n"
     ]
    }
   ],
   "source": [
    "#Example 2: while loop with break statement\n",
    "for i in range (10):\n",
    "    if i == 5:\n",
    "        break\n",
    "    print (i)"
   ]
  },
  {
   "cell_type": "code",
   "execution_count": null,
   "id": "2fc2b0b5-ec4b-4848-9a29-839ba4b3a88c",
   "metadata": {},
   "outputs": [],
   "source": []
  },
  {
   "cell_type": "code",
   "execution_count": 48,
   "id": "ad6876ae-f8e3-4cca-8745-df3c0d907112",
   "metadata": {},
   "outputs": [
    {
     "name": "stdout",
     "output_type": "stream",
     "text": [
      "0\n",
      "1\n",
      "2\n",
      "4\n"
     ]
    }
   ],
   "source": [
    "#Example 3: while loop with continue statement\n",
    "for i in range (5):\n",
    "    if i == 3:\n",
    "        continue\n",
    "    print (i)"
   ]
  },
  {
   "cell_type": "code",
   "execution_count": null,
   "id": "42c98c48-af19-4c83-98b7-d7925d16e725",
   "metadata": {},
   "outputs": [],
   "source": []
  }
 ],
 "metadata": {
  "kernelspec": {
   "display_name": "Python 3 (ipykernel)",
   "language": "python",
   "name": "python3"
  },
  "language_info": {
   "codemirror_mode": {
    "name": "ipython",
    "version": 3
   },
   "file_extension": ".py",
   "mimetype": "text/x-python",
   "name": "python",
   "nbconvert_exporter": "python",
   "pygments_lexer": "ipython3",
   "version": "3.10.8"
  }
 },
 "nbformat": 4,
 "nbformat_minor": 5
}
